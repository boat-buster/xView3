{
 "cells": [
  {
   "cell_type": "markdown",
   "metadata": {
    "tags": []
   },
   "source": [
    "# xView3 model\n",
    "\n",
    "This tutorial is heavily based on the [Pytorch Object Detection Tutorial](https://pytorch.org/tutorials/intermediate/torchvision\\_tutorial.html).  As such, it is not intended to represent a *good* approach to the xView3 problem, but rather how a standard approach might be modified to use the xView3 dataset."
   ]
  },
  {
   "cell_type": "markdown",
   "metadata": {
    "tags": []
   },
   "source": [
    "## Input Parameters"
   ]
  },
  {
   "cell_type": "code",
   "execution_count": 1,
   "metadata": {},
   "outputs": [],
   "source": [
    "# Path to training data\n",
    "data_path = '/data/xview3/data/big/'\n",
    "\n",
    "# Path to directory containing two directories 'train' and 'validation'  \n",
    "image_folder = '/data/xview3/data/big/'\n",
    "\n",
    "# Path to ground truth label files; should contain train.csv and validation.csv\n",
    "label_file_root = '/data/xview3/data/labels/'\n",
    "\n",
    "# Path to the label files for close-to-shore data\n",
    "shore_root='/data/xview3/data/shoreline'\n",
    "\n",
    "# Path where chips will be written to disk; should be empty to begin with,\n",
    "chips_path = '/mnt/md127/chips'\n",
    "\n",
    "# Set true to re-chip dataset, set false to use existing chips\n",
    "overwrite_preproc = False\n",
    "\n",
    "# Set cp flag to true to load model, optimizer, and scheduler states from checkpoint, set model to load model nnly, set both false to use new everything\n",
    "cp_exists, model_exists = False, True\n",
    "\n",
    "# Define and record paramters:     |batch size|learning rate|momentum|weight decay|# of epochs|\n",
    "bs, lr, moment, decay, num_epochs =     50,        0.05,       0.8,       0.01,        100"
   ]
  },
  {
   "cell_type": "markdown",
   "metadata": {
    "tags": []
   },
   "source": [
    "## Imports"
   ]
  },
  {
   "cell_type": "code",
   "execution_count": 2,
   "metadata": {},
   "outputs": [],
   "source": [
    "import os\n",
    "import json\n",
    "import numpy as np\n",
    "import torch\n",
    "import torch.nn as nn\n",
    "import torch.utils.data\n",
    "import pandas as pd\n",
    "from traceback import format_exc\n",
    "from pathlib import Path\n",
    "from engine import train_one_epoch, evaluate\n",
    "from utils import new_model, xView3BaselineModel, trainer\n",
    "from utils import read_in_dets, save_checkpoint, record_score, record_params, record_all, format_data, reformat_results\n",
    "from inference import predict_results\n",
    "from train import create_datasets\n",
    "from visualizer import visualizer\n",
    "from dataloader import generate_loaders_unlabeled, generate_loaders\n",
    "from metric import score\n",
    "from constants import PIX_TO_M, FISHING, NONFISHING\n",
    "from notifier import telegram_notify"
   ]
  },
  {
   "cell_type": "markdown",
   "metadata": {
    "tags": []
   },
   "source": [
    "## Loading data\n",
    "xView3 data is made available as a set of GeoTIFFs per Scene ID. Along with [cross (VH) and co (VV) polarization channels](https://earth.esa.int/documents/10174/3166029/Vilnius_radar_general.pdf), we also include [bathymetry](https://www.gebco.net/data_and_products/gridded_bathymetry_data/) and various wind layers.\n",
    "\n",
    "Since these scenes are very large, the preprocessing code creates ML-ready chips and puts them into easy-to-use [PyTorch datasets](https://pytorch.org/tutorials/beginner/basics/data_tutorial.html)."
   ]
  },
  {
   "cell_type": "code",
   "execution_count": 3,
   "metadata": {
    "tags": [
     "outputPrepend"
    ]
   },
   "outputs": [
    {
     "name": "stdout",
     "output_type": "stream",
     "text": [
      "531 train IDs and 50 validation IDs\n"
     ]
    },
    {
     "name": "stderr",
     "output_type": "stream",
     "text": [
      "/data/xview3/xview3-reference-main/reference/dataloader.py:583: DtypeWarning: Columns (7,8,11,16) have mixed types.Specify dtype option on import or set low_memory=False.\n",
      "  process_scene(\n"
     ]
    },
    {
     "name": "stdout",
     "output_type": "stream",
     "text": [
      "Elapsed Time: 1.13 Minutes\n",
      "Adding background chips...\n",
      "Number of Unique Chips: 114608\n",
      "Initialization complete\n",
      "Elapsed Time: 0.03 Minutes\n",
      "Number of Unique Chips: 5999\n",
      "Initialization complete\n"
     ]
    }
   ],
   "source": [
    "# generate the training and validation subdirectories and move images\n",
    "train_path, val_path = format_data(Path(data_path))\n",
    "\n",
    "# Paths defined in accordance with instructions above; should not need to change \n",
    "train_data_root = Path(image_folder) / 'train'\n",
    "train_label_file = Path(label_file_root) / 'train.csv'\n",
    "train_chips_path = Path(chips_path) / 'train'\n",
    "val_data_root = Path(image_folder) / 'validation'\n",
    "val_label_file = Path(label_file_root) / 'validation.csv'\n",
    "val_chips_path = Path(chips_path) / 'validation'\n",
    "\n",
    "# Create PyTorch datasets\n",
    "train_data, val_data = create_datasets(\n",
    "        train_data_root=train_data_root,\n",
    "        train_detect_file=train_label_file,\n",
    "        train_chips_path=train_chips_path,\n",
    "        val_data_root=val_data_root,\n",
    "        val_detect_file=val_label_file,\n",
    "        val_chips_path=val_chips_path,\n",
    "        overwrite_preproc=overwrite_preproc,\n",
    "        channels=['vh', 'vv', 'bathymetry'])"
   ]
  },
  {
   "cell_type": "markdown",
   "metadata": {
    "tags": []
   },
   "source": [
    "## Data loaders\n",
    "Now that our data is loaded and initialized, we want to start setting up the device and DataLoaders to feed the PyTorch model.\n",
    "\n",
    "Depending on your GPU vRAM, play around with the batch_size for the training and validation data loaders to ensure you don't run into out of memory errors."
   ]
  },
  {
   "cell_type": "code",
   "execution_count": 4,
   "metadata": {},
   "outputs": [
    {
     "name": "stdout",
     "output_type": "stream",
     "text": [
      "Using device: cuda\n"
     ]
    }
   ],
   "source": [
    "# set error handling \n",
    "np.seterr(divide='ignore', invalid='ignore')\n",
    "\n",
    "# train on the GPU or on the CPU, if a GPU is not available\n",
    "device = trainer()\n",
    "\n",
    "# define training and validation data loaders\n",
    "data_loader_train, data_loader_val = generate_loaders(train_data, val_data, bs)"
   ]
  },
  {
   "cell_type": "markdown",
   "metadata": {
    "tags": []
   },
   "source": [
    "## Model (Checkpoint and Restart Point)\n",
    "The xView3 reference model utilizes the well-known [Faster R-CNN](https://arxiv.org/abs/1506.01497) model that is provided pre-built in the torchvision library. We wrap the Faster R-CNN into a convenience class for ease of use, but the basic structure still remains and should be simple to extend.\n",
    "\n",
    "The xView3 Faster R-CNN model is instaniated with 3 classes -- `not vessel`, `fishing`, and `not fishing` -- and a pre-defined image mean and standard deviation.  We also -- very naively! -- assume that every detection has a bounding box of the same size.  While validation data for this challenge has bounding boxes, the training data does not.  How you make use of these pieces of information is one of the ways in which you can be creative!\n",
    "\n",
    "We use a standard stochastic gradient descent optimizer for the Faster R-CNN model. Feel free to play around with more advanced optimizers such as Adam, RMSProp, or others.\n",
    "\n",
    "Additionally, we use a step-based learning rate scheduler to decay the learning rate over the duration of the training. You could experiment with other LR schedules.  For the reference implementation, we've kept this straightforward."
   ]
  },
  {
   "cell_type": "code",
   "execution_count": null,
   "metadata": {},
   "outputs": [],
   "source": [
    "# Create everything fresh    \n",
    "model = new_model(chips_path, overwrite_preproc, train_data)\n",
    "params = [p for p in model.parameters() if p.requires_grad]\n",
    "optimizer = torch.optim.SGD(params, lr=lr, momentum=moment, weight_decay=decay)\n",
    "lr_scheduler = torch.optim.lr_scheduler.StepLR(optimizer, step_size=3, gamma=0.1)\n",
    "\n",
    "# Load every state from checkpoint\n",
    "if cp_exists:\n",
    "    checkpoint = torch.load('weights/best.pth', map_location=device)\n",
    "    model.load_state_dict(checkpoint['model'])\n",
    "    optimizer.load_state_dict(checkpoint['optimizer'])\n",
    "    lr_scheduler.load_state_dict(checkpoint['scheduler'])\n",
    "\n",
    "# Load model state only, use new optimizer and scheduler\n",
    "elif model_exists:\n",
    "    model.load_state_dict(torch.load(f'weights/best.pth', map_location=device))\n",
    "\n",
    "# Move model to the right device\n",
    "model.to(device)"
   ]
  },
  {
   "cell_type": "markdown",
   "metadata": {},
   "source": [
    "## Training\n",
    "Training the model is done via torchvision's provided `train_one_epoch` function which wraps the traditional PyTorch training loop into an easy-to-use function made for built-in object detectors. The model is saved every epoch."
   ]
  },
  {
   "cell_type": "code",
   "execution_count": null,
   "metadata": {},
   "outputs": [
    {
     "name": "stderr",
     "output_type": "stream",
     "text": [
      "/data/xview3/anaconda3/envs/xview3/lib/python3.9/site-packages/torch/functional.py:445: UserWarning: torch.meshgrid: in an upcoming release, it will be required to pass the indexing argument. (Triggered internally at  /opt/conda/conda-bld/pytorch_1634272204863/work/aten/src/ATen/native/TensorShape.cpp:2157.)\n",
      "  return _VF.meshgrid(tensors, **kwargs)  # type: ignore[attr-defined]\n"
     ]
    },
    {
     "name": "stdout",
     "output_type": "stream",
     "text": [
      "Epoch: [0]  [   0/2293]  eta: 7:23:30  lr: 0.000100  loss: 0.2782 (0.2782)  loss_classifier: 0.0101 (0.0101)  loss_box_reg: 0.0000 (0.0000)  loss_objectness: 0.2461 (0.2461)  loss_rpn_box_reg: 0.0220 (0.0220)  time: 11.6050  data: 9.1184  max mem: 30286\n",
      "#################################################"
     ]
    }
   ],
   "source": [
    "try:    \n",
    "    for epoch in range(num_epochs):\n",
    "        # train for one epoch, printing every iteration\n",
    "        train_one_epoch(model, optimizer, data_loader_train, device, epoch, print_freq=(115000/(bs*3)))\n",
    "        \n",
    "        # update the learning rate\n",
    "        lr_scheduler.step()\n",
    "        \n",
    "        # evaluate on the test dataset\n",
    "        evaluate(model, data_loader_val, device=device)\n",
    "        \n",
    "        # save a model state and full checkpoint object\n",
    "        save_checkpoint(model, optimizer, lr_scheduler, epoch)\n",
    "except:\n",
    "    telegram_notify(\"Error: \" + str(format_exc()))"
   ]
  },
  {
   "cell_type": "markdown",
   "metadata": {
    "tags": []
   },
   "source": [
    "## Inference\n",
    "Let's run inference on the model by re-using one of the validation scenes"
   ]
  },
  {
   "cell_type": "code",
   "execution_count": null,
   "metadata": {
    "tags": []
   },
   "outputs": [],
   "source": [
    "try:\n",
    "    # Creating a fresh dataloader for evaluation that includes all chips, not just labeled ones\n",
    "    data_loader_val_unlabeled = generate_loaders_unlabeled(val_data_root, val_data, chips_path) \n",
    "    \n",
    "    # Loading the model and putting it into eval mode on correct device\n",
    "    model_eval = new_model(chips_path, overwrite_preproc, train_data)\n",
    "    model_eval.load_state_dict(torch.load(f'trained_model_{num_epochs}_epochs.pth', map_location=device))\n",
    "    model_eval.to(device)\n",
    "    model_eval.eval()\n",
    "\n",
    "    # Running inference - use model state to generate a list of predictions for the unlabeled validation data\n",
    "    res = predict_results(data_loader_val_unlabeled, model_eval, device)\n",
    "\n",
    "    # Reformat the results in xView3 format - convert chip-level to scene-level coordinates\n",
    "    df_out = reformat_results(res, chips_path)\n",
    "    display(df_out)\n",
    "except:\n",
    "    telegram_notify(\"Error: \" + str(format_exc()))"
   ]
  },
  {
   "cell_type": "markdown",
   "metadata": {},
   "source": [
    "Note that to run inference for the challenge, we must not only run the model forward -- we must also make sure that the output is formatted in the manner expected by the xView3 metric computation code.  The specification for this output can be found in the challenge documentation."
   ]
  },
  {
   "cell_type": "markdown",
   "metadata": {
    "tags": []
   },
   "source": [
    "## Metrics\n",
    "In order to properly detect and classify dark vessel activity in oceans, the xView3 challenge incorporates multiple different factors when scoring how well a model performs for any scene provided for inference. This aggregate metric takes into account five different components, explained below. The functions are implemented in `metric.py`.\n",
    "\n",
    "$$ M_R = F1_D * \\frac{1 + F1_S  + F1_V + F1_F + PE_L}{5} $$\n",
    "\n",
    "$$ PE_{L} = 1 - \\frac{1}{N} \\sum_{n=1}^{N} \\frac{| \\hat{\\ell} - \\ell|}{\\ell}. $$"
   ]
  },
  {
   "cell_type": "markdown",
   "metadata": {},
   "source": [
    "## Score, Visualize, and Record Results"
   ]
  },
  {
   "cell_type": "code",
   "execution_count": null,
   "metadata": {},
   "outputs": [],
   "source": [
    "try:\n",
    "    # Score model\n",
    "    inference, ground_truth = read_in_dets(val_label_file)\n",
    "    out = score(inference, ground_truth, shore_root, distance_tolerance=200, shore_tolerance=2)\n",
    "    \n",
    "    # Copy visuals, parameters, and score to results/resultsDayMonth\n",
    "    record_params(bs, lr, moment, decay, num_epochs)\n",
    "    record_score(out)\n",
    "    record_all(num_epochs)\n",
    "    \n",
    "    # Run the visualizer\n",
    "    visualizer()\n",
    "    \n",
    "    # Notify completion\n",
    "    telegram_notify(\"Success: \" + str(out))\n",
    "except:\n",
    "    telegram_notify(\"Error: \" + str(format_exc()))"
   ]
  },
  {
   "cell_type": "markdown",
   "metadata": {},
   "source": [
    "The telegram group to receive runtime notifications:"
   ]
  },
  {
   "attachments": {
    "a32f5944-b7a9-4a5b-ab59-8dc63d70b0d3.png": {
     "image/png": "[encoded data removed]"
    }
   },
   "cell_type": "markdown",
   "metadata": {},
   "source": [
    "![image.png](attachment:a32f5944-b7a9-4a5b-ab59-8dc63d70b0d3.png)"
   ]
  }
 ],
 "metadata": {
  "interpreter": {
   "hash": "96fa6b05da7aedc1ded514a64864c162c15c541c5fb559079fe0a06e64c9ea4c"
  },
  "kernelspec": {
   "display_name": "xview3",
   "language": "python",
   "name": "xview3"
  },
  "language_info": {
   "codemirror_mode": {
    "name": "ipython",
    "version": 3
   },
   "file_extension": ".py",
   "mimetype": "text/x-python",
   "name": "python",
   "nbconvert_exporter": "python",
   "pygments_lexer": "ipython3",
   "version": "3.9.7"
  }
 },
 "nbformat": 4,
 "nbformat_minor": 4
}
